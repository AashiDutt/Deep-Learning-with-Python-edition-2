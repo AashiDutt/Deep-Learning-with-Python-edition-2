{
  "nbformat": 4,
  "nbformat_minor": 0,
  "metadata": {
    "colab": {
      "name": "Chapter4.ipynb",
      "provenance": [],
      "authorship_tag": "ABX9TyMbpsjOYWi+NxMJq4nDX9bk",
      "include_colab_link": true
    },
    "kernelspec": {
      "name": "python3",
      "display_name": "Python 3"
    },
    "language_info": {
      "name": "python"
    }
  },
  "cells": [
    {
      "cell_type": "markdown",
      "metadata": {
        "id": "view-in-github",
        "colab_type": "text"
      },
      "source": [
        "<a href=\"https://colab.research.google.com/github/AashiDutt/Deep-Learning-with-Python-edition-2/blob/main/Chapter4.ipynb\" target=\"_parent\"><img src=\"https://colab.research.google.com/assets/colab-badge.svg\" alt=\"Open In Colab\"/></a>"
      ]
    },
    {
      "cell_type": "markdown",
      "metadata": {
        "id": "bsr2YjB_NBKo"
      },
      "source": [
        "#BOOK - DEEP LEARNING WITH PYTHON (EDITION 2)\n",
        "\n",
        "##Code - Chapter 4 (Getting started with Neural Networks - classification and Regression)"
      ]
    },
    {
      "cell_type": "markdown",
      "metadata": {
        "id": "MSZULavITGDD"
      },
      "source": [
        "#**1.Binary Classification Example**\n",
        "\n",
        "#*The IMDB Dataset*"
      ]
    },
    {
      "cell_type": "code",
      "metadata": {
        "id": "p6LjL_QAM7Ez",
        "colab": {
          "base_uri": "https://localhost:8080/"
        },
        "outputId": "67f104e7-2cff-4c9f-a4af-cae5a3fbd80d"
      },
      "source": [
        "# total reviews = 50,000\n",
        "# training data = 25,000\n",
        "# test data = 25,000 with 50% negative and 50% positive reviews\n",
        "\n",
        "# Reviews are already converted from sequence of words to sequences of integers.\n",
        "\n",
        "# 1. Loading Data\n",
        "\n",
        "from tensorflow.keras.datasets import imdb\n",
        "(train_data, train_labels), (test_data, test_labels) = imdb.load_data(num_words = 10000) # keep only top 1000 most frequently occuring words in training data"
      ],
      "execution_count": 18,
      "outputs": [
        {
          "output_type": "stream",
          "text": [
            "Downloading data from https://storage.googleapis.com/tensorflow/tf-keras-datasets/imdb.npz\n",
            "17465344/17464789 [==============================] - 0s 0us/step\n",
            "17473536/17464789 [==============================] - 0s 0us/step\n"
          ],
          "name": "stdout"
        }
      ]
    },
    {
      "cell_type": "code",
      "metadata": {
        "colab": {
          "base_uri": "https://localhost:8080/"
        },
        "id": "xFzS-Yr1UA2W",
        "outputId": "61b6aae4-a540-43b3-9cf3-b2736882c8ec"
      },
      "source": [
        "train_data[0]"
      ],
      "execution_count": 19,
      "outputs": [
        {
          "output_type": "execute_result",
          "data": {
            "text/plain": [
              "[1,\n",
              " 14,\n",
              " 22,\n",
              " 16,\n",
              " 43,\n",
              " 530,\n",
              " 973,\n",
              " 1622,\n",
              " 1385,\n",
              " 65,\n",
              " 458,\n",
              " 4468,\n",
              " 66,\n",
              " 3941,\n",
              " 4,\n",
              " 173,\n",
              " 36,\n",
              " 256,\n",
              " 5,\n",
              " 25,\n",
              " 100,\n",
              " 43,\n",
              " 838,\n",
              " 112,\n",
              " 50,\n",
              " 670,\n",
              " 2,\n",
              " 9,\n",
              " 35,\n",
              " 480,\n",
              " 284,\n",
              " 5,\n",
              " 150,\n",
              " 4,\n",
              " 172,\n",
              " 112,\n",
              " 167,\n",
              " 2,\n",
              " 336,\n",
              " 385,\n",
              " 39,\n",
              " 4,\n",
              " 172,\n",
              " 4536,\n",
              " 1111,\n",
              " 17,\n",
              " 546,\n",
              " 38,\n",
              " 13,\n",
              " 447,\n",
              " 4,\n",
              " 192,\n",
              " 50,\n",
              " 16,\n",
              " 6,\n",
              " 147,\n",
              " 2025,\n",
              " 19,\n",
              " 14,\n",
              " 22,\n",
              " 4,\n",
              " 1920,\n",
              " 4613,\n",
              " 469,\n",
              " 4,\n",
              " 22,\n",
              " 71,\n",
              " 87,\n",
              " 12,\n",
              " 16,\n",
              " 43,\n",
              " 530,\n",
              " 38,\n",
              " 76,\n",
              " 15,\n",
              " 13,\n",
              " 1247,\n",
              " 4,\n",
              " 22,\n",
              " 17,\n",
              " 515,\n",
              " 17,\n",
              " 12,\n",
              " 16,\n",
              " 626,\n",
              " 18,\n",
              " 2,\n",
              " 5,\n",
              " 62,\n",
              " 386,\n",
              " 12,\n",
              " 8,\n",
              " 316,\n",
              " 8,\n",
              " 106,\n",
              " 5,\n",
              " 4,\n",
              " 2223,\n",
              " 5244,\n",
              " 16,\n",
              " 480,\n",
              " 66,\n",
              " 3785,\n",
              " 33,\n",
              " 4,\n",
              " 130,\n",
              " 12,\n",
              " 16,\n",
              " 38,\n",
              " 619,\n",
              " 5,\n",
              " 25,\n",
              " 124,\n",
              " 51,\n",
              " 36,\n",
              " 135,\n",
              " 48,\n",
              " 25,\n",
              " 1415,\n",
              " 33,\n",
              " 6,\n",
              " 22,\n",
              " 12,\n",
              " 215,\n",
              " 28,\n",
              " 77,\n",
              " 52,\n",
              " 5,\n",
              " 14,\n",
              " 407,\n",
              " 16,\n",
              " 82,\n",
              " 2,\n",
              " 8,\n",
              " 4,\n",
              " 107,\n",
              " 117,\n",
              " 5952,\n",
              " 15,\n",
              " 256,\n",
              " 4,\n",
              " 2,\n",
              " 7,\n",
              " 3766,\n",
              " 5,\n",
              " 723,\n",
              " 36,\n",
              " 71,\n",
              " 43,\n",
              " 530,\n",
              " 476,\n",
              " 26,\n",
              " 400,\n",
              " 317,\n",
              " 46,\n",
              " 7,\n",
              " 4,\n",
              " 2,\n",
              " 1029,\n",
              " 13,\n",
              " 104,\n",
              " 88,\n",
              " 4,\n",
              " 381,\n",
              " 15,\n",
              " 297,\n",
              " 98,\n",
              " 32,\n",
              " 2071,\n",
              " 56,\n",
              " 26,\n",
              " 141,\n",
              " 6,\n",
              " 194,\n",
              " 7486,\n",
              " 18,\n",
              " 4,\n",
              " 226,\n",
              " 22,\n",
              " 21,\n",
              " 134,\n",
              " 476,\n",
              " 26,\n",
              " 480,\n",
              " 5,\n",
              " 144,\n",
              " 30,\n",
              " 5535,\n",
              " 18,\n",
              " 51,\n",
              " 36,\n",
              " 28,\n",
              " 224,\n",
              " 92,\n",
              " 25,\n",
              " 104,\n",
              " 4,\n",
              " 226,\n",
              " 65,\n",
              " 16,\n",
              " 38,\n",
              " 1334,\n",
              " 88,\n",
              " 12,\n",
              " 16,\n",
              " 283,\n",
              " 5,\n",
              " 16,\n",
              " 4472,\n",
              " 113,\n",
              " 103,\n",
              " 32,\n",
              " 15,\n",
              " 16,\n",
              " 5345,\n",
              " 19,\n",
              " 178,\n",
              " 32]"
            ]
          },
          "metadata": {},
          "execution_count": 19
        }
      ]
    },
    {
      "cell_type": "code",
      "metadata": {
        "colab": {
          "base_uri": "https://localhost:8080/"
        },
        "id": "ojzV_9zFUo1U",
        "outputId": "1d597cce-fc18-4496-ade6-f7308b5884fe"
      },
      "source": [
        "train_labels[0]"
      ],
      "execution_count": 20,
      "outputs": [
        {
          "output_type": "execute_result",
          "data": {
            "text/plain": [
              "1"
            ]
          },
          "metadata": {},
          "execution_count": 20
        }
      ]
    },
    {
      "cell_type": "code",
      "metadata": {
        "colab": {
          "base_uri": "https://localhost:8080/"
        },
        "id": "ZmnCgnAmUwUt",
        "outputId": "e098b6bb-78b7-4692-9f7d-14121fa62eae"
      },
      "source": [
        "# since, we are keeping just top 10,000 words\n",
        "max([max(sequence) for sequence in train_data])"
      ],
      "execution_count": 21,
      "outputs": [
        {
          "output_type": "execute_result",
          "data": {
            "text/plain": [
              "9999"
            ]
          },
          "metadata": {},
          "execution_count": 21
        }
      ]
    },
    {
      "cell_type": "code",
      "metadata": {
        "colab": {
          "base_uri": "https://localhost:8080/"
        },
        "id": "HUHUcyeiU6Xk",
        "outputId": "a20ae195-2c14-4283-da0d-e18187c0b858"
      },
      "source": [
        "#EXTRA CODE FOR - Decoding reviews back to text\n",
        "# dictionary mapping indices to words\n",
        "\n",
        "word_index = imdb.get_word_index()\n",
        "\n",
        "reverse_word_index = dict(   # reverses mapping, indices to words\n",
        "    [(value, key) for (key, value) in word_index.items()])\n",
        "\n",
        "decoded_review = \" \".join(\n",
        "    [reverse_word_index.get(i - 3, \"?\") for i in train_data[0]])\n",
        "# indices are offset by 3, 0 -\"padding\", 1 - \"start of sequence\", 2 - \"unknown\"\n"
      ],
      "execution_count": 22,
      "outputs": [
        {
          "output_type": "stream",
          "text": [
            "Downloading data from https://storage.googleapis.com/tensorflow/tf-keras-datasets/imdb_word_index.json\n",
            "1646592/1641221 [==============================] - 0s 0us/step\n",
            "1654784/1641221 [==============================] - 0s 0us/step\n"
          ],
          "name": "stdout"
        }
      ]
    },
    {
      "cell_type": "code",
      "metadata": {
        "id": "CTHg4cWYuBJW"
      },
      "source": [
        "# preparing data\n",
        "# sequence of integers have different lenghts and can't be fed to NN directly as it requires contiguous batches of data.\n",
        "\n",
        "# Turn list into tensors using Multi-Hot Encoding (converts list to vectors of 0's and 1's)\n",
        "\n",
        "import numpy as np\n",
        "def vectorize_sequences(sequences, dimension = 10000):\n",
        "  results = np.zeros((len(sequences), dimension)) # create all zeros matrix of shape (len(sequences), dimension)\n",
        "  for i, sequence in enumerate(sequences):\n",
        "    for j in sequence:\n",
        "      results[i , j] = 1.\n",
        "  return results\n",
        "x_train = vectorize_sequences(train_data) \n",
        "x_test = vectorize_sequences(test_data)\n",
        "\n",
        "\n",
        "\n",
        "\n"
      ],
      "execution_count": 23,
      "outputs": []
    },
    {
      "cell_type": "code",
      "metadata": {
        "colab": {
          "base_uri": "https://localhost:8080/"
        },
        "id": "KnFKZmRSysQt",
        "outputId": "6585a8ee-ed28-42d8-b10e-77cf8ecf1c84"
      },
      "source": [
        "x_train[0]"
      ],
      "execution_count": 24,
      "outputs": [
        {
          "output_type": "execute_result",
          "data": {
            "text/plain": [
              "array([0., 1., 1., ..., 0., 0., 0.])"
            ]
          },
          "metadata": {},
          "execution_count": 24
        }
      ]
    },
    {
      "cell_type": "code",
      "metadata": {
        "id": "MS71V6UAyt-_"
      },
      "source": [
        "#Vectorize labels\n",
        "\n",
        "y_train = np.asarray(train_labels).astype(\"float32\")\n",
        "y_test = np.asarray(test_labels).astype(\"float32\")\n"
      ],
      "execution_count": 25,
      "outputs": []
    },
    {
      "cell_type": "markdown",
      "metadata": {
        "id": "VrhSfM4Xz88M"
      },
      "source": [
        "#Building the model\n",
        "\n",
        "Problem - Input data is a vector and labels are scalars. \n",
        "\n",
        "Solution - A plain stack of densely connected layers with relu activation.\n",
        "\n",
        "Two key architecture decisions:\n",
        "- how many layers to use.\n",
        "- how many units to choose for each layer.\n",
        "\n"
      ]
    },
    {
      "cell_type": "code",
      "metadata": {
        "id": "eUlkyz6TzbVX"
      },
      "source": [
        "from tensorflow import keras\n",
        "from tensorflow.keras import layers\n",
        "\n",
        "model = keras.Sequential([\n",
        "    layers.Dense(16, activation = \"relu\"),\n",
        "    layers.Dense(16, activation = \"relu\"),\n",
        "    layers.Dense(1, activation = \"sigmoid\")])"
      ],
      "execution_count": 26,
      "outputs": []
    },
    {
      "cell_type": "code",
      "metadata": {
        "id": "gsi5sqm408Ub"
      },
      "source": [
        "# compiling the model\n",
        "\n",
        "model.compile(optimizer = \"rmsprop\",\n",
        "              loss = \"binary_crossentropy\",\n",
        "              metrics = [\"accuracy\"])"
      ],
      "execution_count": 27,
      "outputs": []
    },
    {
      "cell_type": "code",
      "metadata": {
        "id": "7yYdt-cA2zhX"
      },
      "source": [
        "# Setting aside validation set\n",
        "\n",
        "x_val = x_train[:10000]\n",
        "partial_x_train = x_train[10000:]\n",
        "y_val = y_train[:10000]\n",
        "partial_y_train = y_train[10000:]\n"
      ],
      "execution_count": 28,
      "outputs": []
    },
    {
      "cell_type": "code",
      "metadata": {
        "colab": {
          "base_uri": "https://localhost:8080/"
        },
        "id": "TgtTLJD53KrG",
        "outputId": "c592cb7e-6a90-424c-e797-2718f74d220f"
      },
      "source": [
        "# Training model\n",
        "\n",
        "history = model.fit(partial_x_train,\n",
        "                    partial_y_train,\n",
        "                    epochs = 20,\n",
        "                    batch_size = 512,\n",
        "                    validation_data = (x_val, y_val))"
      ],
      "execution_count": 29,
      "outputs": [
        {
          "output_type": "stream",
          "text": [
            "Epoch 1/20\n",
            "30/30 [==============================] - 2s 45ms/step - loss: 0.5216 - accuracy: 0.7726 - val_loss: 0.3901 - val_accuracy: 0.8639\n",
            "Epoch 2/20\n",
            "30/30 [==============================] - 1s 32ms/step - loss: 0.3095 - accuracy: 0.9019 - val_loss: 0.3065 - val_accuracy: 0.8872\n",
            "Epoch 3/20\n",
            "30/30 [==============================] - 1s 32ms/step - loss: 0.2254 - accuracy: 0.9277 - val_loss: 0.2799 - val_accuracy: 0.8930\n",
            "Epoch 4/20\n",
            "30/30 [==============================] - 1s 32ms/step - loss: 0.1787 - accuracy: 0.9444 - val_loss: 0.2966 - val_accuracy: 0.8814\n",
            "Epoch 5/20\n",
            "30/30 [==============================] - 1s 31ms/step - loss: 0.1453 - accuracy: 0.9547 - val_loss: 0.2843 - val_accuracy: 0.8865\n",
            "Epoch 6/20\n",
            "30/30 [==============================] - 1s 31ms/step - loss: 0.1167 - accuracy: 0.9651 - val_loss: 0.3245 - val_accuracy: 0.8767\n",
            "Epoch 7/20\n",
            "30/30 [==============================] - 1s 32ms/step - loss: 0.0966 - accuracy: 0.9719 - val_loss: 0.3109 - val_accuracy: 0.8815\n",
            "Epoch 8/20\n",
            "30/30 [==============================] - 1s 32ms/step - loss: 0.0778 - accuracy: 0.9797 - val_loss: 0.3264 - val_accuracy: 0.8815\n",
            "Epoch 9/20\n",
            "30/30 [==============================] - 1s 31ms/step - loss: 0.0637 - accuracy: 0.9833 - val_loss: 0.3539 - val_accuracy: 0.8770\n",
            "Epoch 10/20\n",
            "30/30 [==============================] - 1s 32ms/step - loss: 0.0491 - accuracy: 0.9885 - val_loss: 0.3813 - val_accuracy: 0.8759\n",
            "Epoch 11/20\n",
            "30/30 [==============================] - 1s 32ms/step - loss: 0.0384 - accuracy: 0.9915 - val_loss: 0.4083 - val_accuracy: 0.8753\n",
            "Epoch 12/20\n",
            "30/30 [==============================] - 1s 31ms/step - loss: 0.0318 - accuracy: 0.9925 - val_loss: 0.4282 - val_accuracy: 0.8755\n",
            "Epoch 13/20\n",
            "30/30 [==============================] - 1s 31ms/step - loss: 0.0219 - accuracy: 0.9967 - val_loss: 0.4911 - val_accuracy: 0.8665\n",
            "Epoch 14/20\n",
            "30/30 [==============================] - 1s 31ms/step - loss: 0.0201 - accuracy: 0.9963 - val_loss: 0.4882 - val_accuracy: 0.8723\n",
            "Epoch 15/20\n",
            "30/30 [==============================] - 1s 31ms/step - loss: 0.0103 - accuracy: 0.9995 - val_loss: 0.5893 - val_accuracy: 0.8610\n",
            "Epoch 16/20\n",
            "30/30 [==============================] - 1s 32ms/step - loss: 0.0142 - accuracy: 0.9969 - val_loss: 0.5615 - val_accuracy: 0.8692\n",
            "Epoch 17/20\n",
            "30/30 [==============================] - 1s 31ms/step - loss: 0.0053 - accuracy: 0.9997 - val_loss: 0.5943 - val_accuracy: 0.8682\n",
            "Epoch 18/20\n",
            "30/30 [==============================] - 1s 32ms/step - loss: 0.0082 - accuracy: 0.9985 - val_loss: 0.6211 - val_accuracy: 0.8695\n",
            "Epoch 19/20\n",
            "30/30 [==============================] - 1s 31ms/step - loss: 0.0031 - accuracy: 0.9999 - val_loss: 0.6848 - val_accuracy: 0.8624\n",
            "Epoch 20/20\n",
            "30/30 [==============================] - 1s 31ms/step - loss: 0.0062 - accuracy: 0.9987 - val_loss: 0.6863 - val_accuracy: 0.8670\n"
          ],
          "name": "stdout"
        }
      ]
    },
    {
      "cell_type": "code",
      "metadata": {
        "colab": {
          "base_uri": "https://localhost:8080/"
        },
        "id": "_zFgIFw73cg1",
        "outputId": "1861cec1-a8f9-49d4-b40d-6a555ed77239"
      },
      "source": [
        "history_dict = history.history\n",
        "history_dict.keys()"
      ],
      "execution_count": 30,
      "outputs": [
        {
          "output_type": "execute_result",
          "data": {
            "text/plain": [
              "dict_keys(['loss', 'accuracy', 'val_loss', 'val_accuracy'])"
            ]
          },
          "metadata": {},
          "execution_count": 30
        }
      ]
    },
    {
      "cell_type": "code",
      "metadata": {
        "colab": {
          "base_uri": "https://localhost:8080/",
          "height": 295
        },
        "id": "2PuEu5fY33pU",
        "outputId": "be8ee57b-9ca0-4f26-c0e0-9dde5662ae6b"
      },
      "source": [
        "# Plotting losses\n",
        "\n",
        "import matplotlib.pyplot as plt\n",
        "history_dict = history.history\n",
        "loss_values = history_dict[\"loss\"]\n",
        "val_loss_values = history_dict[\"val_loss\"]\n",
        "epochs = range(1, len(loss_values) + 1)\n",
        "plt.plot(epochs, loss_values, \"bo\", label = \"Training loss\")\n",
        "plt.plot(epochs, val_loss_values, \"b\", label = \"Validation loss\")\n",
        "plt.title(\"Training and validation loss\")\n",
        "plt.xlabel(\"Epochs\")\n",
        "plt.ylabel(\"Loss\")\n",
        "plt.legend()\n",
        "plt.show()"
      ],
      "execution_count": 31,
      "outputs": [
        {
          "output_type": "display_data",
          "data": {
            "image/png": "[encoded data removed]",
            "text/plain": [
              "<Figure size 432x288 with 1 Axes>"
            ]
          },
          "metadata": {
            "needs_background": "light"
          }
        }
      ]
    },
    {
      "cell_type": "code",
      "metadata": {
        "colab": {
          "base_uri": "https://localhost:8080/",
          "height": 295
        },
        "id": "xw8wymYC4zIw",
        "outputId": "50a642f3-3f0d-4307-82de-06e31a465bed"
      },
      "source": [
        "# Plotting Accuracy\n",
        "\n",
        "plt.clf()\n",
        "acc = history_dict[\"accuracy\"]\n",
        "val_acc = history_dict[\"val_accuracy\"]\n",
        "plt.plot(epochs, acc, \"bo\", label = \"Training acc\")\n",
        "plt.plot(epochs, val_acc, \"b\", label = \"Validation acc\")\n",
        "plt.title(\"Training and validation Accuracy\")\n",
        "plt.xlabel(\"Epochs\")\n",
        "plt.ylabel(\"Accuracy\")\n",
        "plt.legend()\n",
        "plt.show()"
      ],
      "execution_count": 32,
      "outputs": [
        {
          "output_type": "display_data",
          "data": {
            "image/png": "[encoded data removed]",
            "text/plain": [
              "<Figure size 432x288 with 1 Axes>"
            ]
          },
          "metadata": {
            "needs_background": "light"
          }
        }
      ]
    },
    {
      "cell_type": "markdown",
      "metadata": {
        "id": "MpwYFiap6dCy"
      },
      "source": [
        "Training accuracy increases and training loss decreases with every epoch.\n",
        "\n",
        "While validation accuracy decreases with every epoch. \n",
        "\n",
        "This shows that model don't generalize to data outside of training set.\n",
        "\n",
        "Hence, **Model is Overfitting.**\n"
      ]
    },
    {
      "cell_type": "code",
      "metadata": {
        "colab": {
          "base_uri": "https://localhost:8080/"
        },
        "id": "vQE_qdzp6W_O",
        "outputId": "8e36e61d-aeae-430d-dba5-0ede032116b2"
      },
      "source": [
        "# Retraining Model from scratch\n",
        "\n",
        "model = keras.Sequential([\n",
        "    layers.Dense(16, activation = \"relu\"),\n",
        "    layers.Dense(16, activation = \"relu\"),\n",
        "    layers.Dense(1, activation = \"sigmoid\")])\n",
        "\n",
        "model.compile(optimizer = \"rmsprop\",\n",
        "              loss = \"binary_crossentropy\",\n",
        "              metrics = [\"accuracy\"])\n",
        "model.fit(x_train, y_train, epochs = 4, batch_size = 512)\n",
        "results = model.evaluate(x_test, y_test)"
      ],
      "execution_count": 33,
      "outputs": [
        {
          "output_type": "stream",
          "text": [
            "Epoch 1/4\n",
            "49/49 [==============================] - 2s 25ms/step - loss: 0.4381 - accuracy: 0.8234\n",
            "Epoch 2/4\n",
            "49/49 [==============================] - 1s 25ms/step - loss: 0.2538 - accuracy: 0.9121\n",
            "Epoch 3/4\n",
            "49/49 [==============================] - 1s 25ms/step - loss: 0.1981 - accuracy: 0.9296\n",
            "Epoch 4/4\n",
            "49/49 [==============================] - 1s 25ms/step - loss: 0.1666 - accuracy: 0.9408\n",
            "782/782 [==============================] - 1s 2ms/step - loss: 0.2973 - accuracy: 0.8821\n"
          ],
          "name": "stdout"
        }
      ]
    },
    {
      "cell_type": "code",
      "metadata": {
        "colab": {
          "base_uri": "https://localhost:8080/"
        },
        "id": "jSkDNWOD7rSQ",
        "outputId": "c7458a20-d27a-456e-b947-b2c5463ad7e4"
      },
      "source": [
        "results # 1st number is test loss and 2nd number is test accuracy"
      ],
      "execution_count": 34,
      "outputs": [
        {
          "output_type": "execute_result",
          "data": {
            "text/plain": [
              "[0.2972642183303833, 0.8821200132369995]"
            ]
          },
          "metadata": {},
          "execution_count": 34
        }
      ]
    },
    {
      "cell_type": "code",
      "metadata": {
        "colab": {
          "base_uri": "https://localhost:8080/"
        },
        "id": "vJNXffVG7znW",
        "outputId": "3e6a739d-2cb0-413d-9d55-b4559476d5c0"
      },
      "source": [
        "# predicting on new data\n",
        "model.predict(x_test)"
      ],
      "execution_count": 35,
      "outputs": [
        {
          "output_type": "execute_result",
          "data": {
            "text/plain": [
              "array([[0.19259346],\n",
              "       [0.99988043],\n",
              "       [0.7382475 ],\n",
              "       ...,\n",
              "       [0.11687094],\n",
              "       [0.07274094],\n",
              "       [0.52658296]], dtype=float32)"
            ]
          },
          "metadata": {},
          "execution_count": 35
        }
      ]
    },
    {
      "cell_type": "markdown",
      "metadata": {
        "id": "dQYwSVvvCYwG"
      },
      "source": [
        "#Text Classification Example\n",
        "\n",
        "#*The Reuters Dataset*\n",
        "\n",
        "Dataset has 46 different topics(Labels = 0 to 45),some more represented than others.\n",
        "\n",
        "Each topic has atleast 10 examples.\n",
        "\n",
        "We take 10000 most frequently occuring words."
      ]
    },
    {
      "cell_type": "code",
      "metadata": {
        "colab": {
          "base_uri": "https://localhost:8080/"
        },
        "id": "-G9P3wG27-kj",
        "outputId": "cd6e13b6-b748-4dbb-9460-e8badf1c6389"
      },
      "source": [
        "from tensorflow.keras.datasets import reuters\n",
        "(train_data, train_labels),(test_data, test_labels) = reuters.load_data(num_words = 1000)"
      ],
      "execution_count": 36,
      "outputs": [
        {
          "output_type": "stream",
          "text": [
            "Downloading data from https://storage.googleapis.com/tensorflow/tf-keras-datasets/reuters.npz\n",
            "2113536/2110848 [==============================] - 0s 0us/step\n",
            "2121728/2110848 [==============================] - 0s 0us/step\n"
          ],
          "name": "stdout"
        }
      ]
    },
    {
      "cell_type": "code",
      "metadata": {
        "colab": {
          "base_uri": "https://localhost:8080/"
        },
        "id": "AjgGtq5sD7VA",
        "outputId": "9d79ff8a-3f0e-4b3f-a1fc-a7536715a688"
      },
      "source": [
        "len(train_data)\n"
      ],
      "execution_count": 37,
      "outputs": [
        {
          "output_type": "execute_result",
          "data": {
            "text/plain": [
              "8982"
            ]
          },
          "metadata": {},
          "execution_count": 37
        }
      ]
    },
    {
      "cell_type": "code",
      "metadata": {
        "colab": {
          "base_uri": "https://localhost:8080/"
        },
        "id": "LwxAPp8SEmJF",
        "outputId": "7d8fe771-7ae5-473e-d49c-8bf55e87618d"
      },
      "source": [
        "len(test_data)"
      ],
      "execution_count": 38,
      "outputs": [
        {
          "output_type": "execute_result",
          "data": {
            "text/plain": [
              "2246"
            ]
          },
          "metadata": {},
          "execution_count": 38
        }
      ]
    },
    {
      "cell_type": "code",
      "metadata": {
        "colab": {
          "base_uri": "https://localhost:8080/"
        },
        "id": "hqkXfmc0EsBW",
        "outputId": "3cd2f69a-9444-4c90-ad62-f93a2f03b884"
      },
      "source": [
        "train_data[10]"
      ],
      "execution_count": 39,
      "outputs": [
        {
          "output_type": "execute_result",
          "data": {
            "text/plain": [
              "[1,\n",
              " 245,\n",
              " 273,\n",
              " 207,\n",
              " 156,\n",
              " 53,\n",
              " 74,\n",
              " 160,\n",
              " 26,\n",
              " 14,\n",
              " 46,\n",
              " 296,\n",
              " 26,\n",
              " 39,\n",
              " 74,\n",
              " 2,\n",
              " 2,\n",
              " 14,\n",
              " 46,\n",
              " 2,\n",
              " 2,\n",
              " 86,\n",
              " 61,\n",
              " 2,\n",
              " 2,\n",
              " 14,\n",
              " 61,\n",
              " 451,\n",
              " 2,\n",
              " 17,\n",
              " 12]"
            ]
          },
          "metadata": {},
          "execution_count": 39
        }
      ]
    },
    {
      "cell_type": "code",
      "metadata": {
        "colab": {
          "base_uri": "https://localhost:8080/"
        },
        "id": "ATmh2g6JEvkV",
        "outputId": "8042525f-8413-436c-d3e6-e53688e01ccd"
      },
      "source": [
        "train_labels[10]"
      ],
      "execution_count": 40,
      "outputs": [
        {
          "output_type": "execute_result",
          "data": {
            "text/plain": [
              "3"
            ]
          },
          "metadata": {},
          "execution_count": 40
        }
      ]
    },
    {
      "cell_type": "code",
      "metadata": {
        "id": "Qxa3Wky5E1-X"
      },
      "source": [
        "# Preparing data\n",
        "# converting list to vectors of 0's and 1's  \n",
        "\n",
        "x_train = vectorize_sequences(train_data) \n",
        "x_test = vectorize_sequences(test_data)"
      ],
      "execution_count": 41,
      "outputs": []
    },
    {
      "cell_type": "code",
      "metadata": {
        "id": "mBOg1fCFFb-O"
      },
      "source": [
        "# Vectorizing Labels\n",
        "# Labels are in form of list (0 to 45) \n",
        "# Either covert label list to integer tensor\n",
        "# or use One hot Encoding - categorical encoding\n",
        "\n",
        "\n",
        "def to_one_hot(labels, dimension = 46):\n",
        "  results = np.zeros((len(labels), dimension))\n",
        "  for i, label in enumerate(labels):\n",
        "      results[i, label] = 1.\n",
        "  return results\n",
        "\n",
        "y_train = to_one_hot(train_labels)\n",
        "y_test = to_one_hot(test_labels)"
      ],
      "execution_count": 42,
      "outputs": []
    },
    {
      "cell_type": "markdown",
      "metadata": {
        "id": "vJ_5NyTOH5m3"
      },
      "source": [
        "Built-in way to do one hot encoding in categorical data - categorical encoding\n",
        "\n",
        "from tensorflow.keras.utils import to_categorical\n",
        "\n",
        "y_train = to_categorical(train_labels)\n",
        "\n",
        "y_test = to_categorical(test_labels)"
      ]
    },
    {
      "cell_type": "code",
      "metadata": {
        "id": "Y0FkoNqoHXb3"
      },
      "source": [
        "# Building Model\n",
        "\n",
        "model = keras.Sequential([\n",
        "                          layers.Dense(64, activation = \"relu\"),\n",
        "                          layers.Dense(64, activation = \"relu\"),\n",
        "                          layers.Dense(46, activation = \"softmax\")\n",
        "                                       \n",
        "])"
      ],
      "execution_count": 43,
      "outputs": []
    },
    {
      "cell_type": "code",
      "metadata": {
        "id": "-ccCciLcIypq"
      },
      "source": [
        "model.compile(optimizer = \"rmsprop\",\n",
        "              loss = \"categorical_crossentropy\",\n",
        "              metrics = [\"accuracy\"])"
      ],
      "execution_count": 44,
      "outputs": []
    },
    {
      "cell_type": "code",
      "metadata": {
        "id": "L9r-A1X_OgOo"
      },
      "source": [
        "# Validation set\n",
        "\n",
        "x_val = x_train[:1000]\n",
        "partial_x_train = x_train[1000:]\n",
        "y_val = y_train[:1000]\n",
        "partial_y_train = y_train[1000:]\n"
      ],
      "execution_count": 45,
      "outputs": []
    },
    {
      "cell_type": "code",
      "metadata": {
        "colab": {
          "base_uri": "https://localhost:8080/"
        },
        "id": "fPQWzwkJOxgm",
        "outputId": "06e8341d-21db-4fc8-f891-b908e5e0e441"
      },
      "source": [
        "history = model.fit(partial_x_train, partial_y_train, epochs = 20, batch_size = 512, validation_data = (x_val, y_val))"
      ],
      "execution_count": 46,
      "outputs": [
        {
          "output_type": "stream",
          "text": [
            "Epoch 1/20\n",
            "16/16 [==============================] - 1s 52ms/step - loss: 2.6640 - accuracy: 0.4949 - val_loss: 1.8231 - val_accuracy: 0.6200\n",
            "Epoch 2/20\n",
            "16/16 [==============================] - 1s 52ms/step - loss: 1.5938 - accuracy: 0.6736 - val_loss: 1.4278 - val_accuracy: 0.6720\n",
            "Epoch 3/20\n",
            "16/16 [==============================] - 1s 79ms/step - loss: 1.3091 - accuracy: 0.7125 - val_loss: 1.2541 - val_accuracy: 0.7090\n",
            "Epoch 4/20\n",
            "16/16 [==============================] - 1s 66ms/step - loss: 1.1478 - accuracy: 0.7472 - val_loss: 1.1499 - val_accuracy: 0.7510\n",
            "Epoch 5/20\n",
            "16/16 [==============================] - 1s 42ms/step - loss: 1.0334 - accuracy: 0.7749 - val_loss: 1.0958 - val_accuracy: 0.7680\n",
            "Epoch 6/20\n",
            "16/16 [==============================] - 1s 43ms/step - loss: 0.9439 - accuracy: 0.7930 - val_loss: 1.0476 - val_accuracy: 0.7770\n",
            "Epoch 7/20\n",
            "16/16 [==============================] - 1s 41ms/step - loss: 0.8640 - accuracy: 0.8076 - val_loss: 1.0225 - val_accuracy: 0.7780\n",
            "Epoch 8/20\n",
            "16/16 [==============================] - 1s 42ms/step - loss: 0.7971 - accuracy: 0.8196 - val_loss: 0.9789 - val_accuracy: 0.7920\n",
            "Epoch 9/20\n",
            "16/16 [==============================] - 1s 42ms/step - loss: 0.7368 - accuracy: 0.8339 - val_loss: 0.9661 - val_accuracy: 0.7830\n",
            "Epoch 10/20\n",
            "16/16 [==============================] - 1s 42ms/step - loss: 0.6804 - accuracy: 0.8452 - val_loss: 0.9476 - val_accuracy: 0.7970\n",
            "Epoch 11/20\n",
            "16/16 [==============================] - 1s 45ms/step - loss: 0.6322 - accuracy: 0.8554 - val_loss: 0.9566 - val_accuracy: 0.7940\n",
            "Epoch 12/20\n",
            "16/16 [==============================] - 1s 41ms/step - loss: 0.5896 - accuracy: 0.8619 - val_loss: 0.9179 - val_accuracy: 0.8020\n",
            "Epoch 13/20\n",
            "16/16 [==============================] - 1s 41ms/step - loss: 0.5470 - accuracy: 0.8738 - val_loss: 0.9143 - val_accuracy: 0.8110\n",
            "Epoch 14/20\n",
            "16/16 [==============================] - 1s 42ms/step - loss: 0.5103 - accuracy: 0.8812 - val_loss: 0.9128 - val_accuracy: 0.8130\n",
            "Epoch 15/20\n",
            "16/16 [==============================] - 1s 42ms/step - loss: 0.4751 - accuracy: 0.8905 - val_loss: 0.9134 - val_accuracy: 0.8100\n",
            "Epoch 16/20\n",
            "16/16 [==============================] - 1s 42ms/step - loss: 0.4476 - accuracy: 0.8955 - val_loss: 0.9113 - val_accuracy: 0.8040\n",
            "Epoch 17/20\n",
            "16/16 [==============================] - 1s 42ms/step - loss: 0.4186 - accuracy: 0.9030 - val_loss: 0.9326 - val_accuracy: 0.7990\n",
            "Epoch 18/20\n",
            "16/16 [==============================] - 1s 41ms/step - loss: 0.3988 - accuracy: 0.9049 - val_loss: 0.9389 - val_accuracy: 0.7950\n",
            "Epoch 19/20\n",
            "16/16 [==============================] - 1s 41ms/step - loss: 0.3677 - accuracy: 0.9151 - val_loss: 0.9650 - val_accuracy: 0.7930\n",
            "Epoch 20/20\n",
            "16/16 [==============================] - 1s 41ms/step - loss: 0.3526 - accuracy: 0.9164 - val_loss: 0.9283 - val_accuracy: 0.8010\n"
          ],
          "name": "stdout"
        }
      ]
    },
    {
      "cell_type": "code",
      "metadata": {
        "colab": {
          "base_uri": "https://localhost:8080/",
          "height": 0
        },
        "id": "KuRWoPU6PBcy",
        "outputId": "31ac6728-029c-4d7f-edca-2e15980e29d7"
      },
      "source": [
        "# Plotting losses\n",
        "\n",
        "loss = history.history[\"loss\"]\n",
        "val_loss = history.history[\"val_loss\"]\n",
        "epochs = range(1, len(loss) + 1)\n",
        "plt.plot(epochs, loss, \"bo\", label = \"Training loss\")\n",
        "plt.plot(epochs, val_loss, \"b\", label = \"Validation loss\")\n",
        "plt.title(\"Training and validation loss\")\n",
        "plt.xlabel(\"Epochs\")\n",
        "plt.ylabel(\"Loss\")\n",
        "plt.legend()\n",
        "plt.show()"
      ],
      "execution_count": 47,
      "outputs": [
        {
          "output_type": "display_data",
          "data": {
            "image/png": "[encoded data removed]",
            "text/plain": [
              "<Figure size 432x288 with 1 Axes>"
            ]
          },
          "metadata": {
            "needs_background": "light"
          }
        }
      ]
    },
    {
      "cell_type": "code",
      "metadata": {
        "colab": {
          "base_uri": "https://localhost:8080/",
          "height": 0
        },
        "id": "lghNgmSwPTlw",
        "outputId": "43fc79f8-1366-484b-a858-3dc92766353b"
      },
      "source": [
        "# Plotting Accuracy\n",
        "\n",
        "plt.clf()\n",
        "acc = history_dict[\"accuracy\"]\n",
        "val_acc = history_dict[\"val_accuracy\"]\n",
        "plt.plot(epochs, acc, \"bo\", label = \"Training acc\")\n",
        "plt.plot(epochs, val_acc, \"b\", label = \"Validation acc\")\n",
        "plt.title(\"Training and validation Accuracy\")\n",
        "plt.xlabel(\"Epochs\")\n",
        "plt.ylabel(\"Accuracy\")\n",
        "plt.legend()\n",
        "plt.show()"
      ],
      "execution_count": 48,
      "outputs": [
        {
          "output_type": "display_data",
          "data": {
            "image/png": "[encoded data removed]",
            "text/plain": [
              "<Figure size 432x288 with 1 Axes>"
            ]
          },
          "metadata": {
            "needs_background": "light"
          }
        }
      ]
    },
    {
      "cell_type": "markdown",
      "metadata": {
        "id": "UkK67VBTQcPD"
      },
      "source": [
        "Model is overfitting!!"
      ]
    },
    {
      "cell_type": "code",
      "metadata": {
        "colab": {
          "base_uri": "https://localhost:8080/"
        },
        "id": "28g7pMVSQW-w",
        "outputId": "f86c17a6-8ef3-4c5d-8d6b-05bdcc7a828d"
      },
      "source": [
        "# Retraining Model\n",
        "model = keras.Sequential([\n",
        "    layers.Dense(64, activation = \"relu\"),\n",
        "    layers.Dense(64, activation = \"relu\"),\n",
        "    layers.Dense(46, activation = \"softmax\")])\n",
        "\n",
        "model.compile(optimizer = \"rmsprop\",\n",
        "              loss = \"categorical_crossentropy\",\n",
        "              metrics = [\"accuracy\"])\n",
        "model.fit(x_train, y_train, epochs = 9, batch_size = 512)\n",
        "results = model.evaluate(x_test, y_test)"
      ],
      "execution_count": 49,
      "outputs": [
        {
          "output_type": "stream",
          "text": [
            "Epoch 1/9\n",
            "18/18 [==============================] - 1s 39ms/step - loss: 2.5719 - accuracy: 0.5040\n",
            "Epoch 2/9\n",
            "18/18 [==============================] - 1s 38ms/step - loss: 1.5451 - accuracy: 0.6730\n",
            "Epoch 3/9\n",
            "18/18 [==============================] - 1s 38ms/step - loss: 1.2733 - accuracy: 0.7151\n",
            "Epoch 4/9\n",
            "18/18 [==============================] - 1s 40ms/step - loss: 1.1148 - accuracy: 0.7540\n",
            "Epoch 5/9\n",
            "18/18 [==============================] - 1s 38ms/step - loss: 0.9961 - accuracy: 0.7815\n",
            "Epoch 6/9\n",
            "18/18 [==============================] - 1s 38ms/step - loss: 0.9002 - accuracy: 0.7988\n",
            "Epoch 7/9\n",
            "18/18 [==============================] - 1s 39ms/step - loss: 0.8230 - accuracy: 0.8138\n",
            "Epoch 8/9\n",
            "18/18 [==============================] - 1s 38ms/step - loss: 0.7554 - accuracy: 0.8253\n",
            "Epoch 9/9\n",
            "18/18 [==============================] - 1s 38ms/step - loss: 0.6956 - accuracy: 0.8406\n",
            "71/71 [==============================] - 0s 2ms/step - loss: 0.9867 - accuracy: 0.7734\n"
          ],
          "name": "stdout"
        }
      ]
    },
    {
      "cell_type": "code",
      "metadata": {
        "colab": {
          "base_uri": "https://localhost:8080/"
        },
        "id": "a1TKVkCbQ4Jo",
        "outputId": "23e57204-a6b6-421e-dcbe-02c731f6e7c8"
      },
      "source": [
        "results # ~ 77% test accuracy"
      ],
      "execution_count": 50,
      "outputs": [
        {
          "output_type": "execute_result",
          "data": {
            "text/plain": [
              "[0.9867397546768188, 0.7733749151229858]"
            ]
          },
          "metadata": {},
          "execution_count": 50
        }
      ]
    },
    {
      "cell_type": "code",
      "metadata": {
        "id": "k5EtTUECQ71K"
      },
      "source": [
        "predictions = model.predict(x_test)"
      ],
      "execution_count": 51,
      "outputs": []
    },
    {
      "cell_type": "code",
      "metadata": {
        "colab": {
          "base_uri": "https://localhost:8080/"
        },
        "id": "HHV5-f5nRRlD",
        "outputId": "a16908a5-c576-4805-af3e-f395ace9cb82"
      },
      "source": [
        "predictions[0].shape # predictions has vector length of 46"
      ],
      "execution_count": 52,
      "outputs": [
        {
          "output_type": "execute_result",
          "data": {
            "text/plain": [
              "(46,)"
            ]
          },
          "metadata": {},
          "execution_count": 52
        }
      ]
    },
    {
      "cell_type": "code",
      "metadata": {
        "colab": {
          "base_uri": "https://localhost:8080/"
        },
        "id": "_wmbBqRJRUfX",
        "outputId": "8e2b403f-d1f1-423d-9536-5c96b0cca41c"
      },
      "source": [
        "np.sum(predictions[0]) # vector sum of coefficients is 1 as they form a probability distribution"
      ],
      "execution_count": 53,
      "outputs": [
        {
          "output_type": "execute_result",
          "data": {
            "text/plain": [
              "1.0"
            ]
          },
          "metadata": {},
          "execution_count": 53
        }
      ]
    },
    {
      "cell_type": "code",
      "metadata": {
        "colab": {
          "base_uri": "https://localhost:8080/"
        },
        "id": "7EEoqgzmRgdb",
        "outputId": "39be87ed-7f1e-40b3-a574-4167651d5fb4"
      },
      "source": [
        "# get prediction for 1st entry\n",
        "np.argmax(predictions[0])"
      ],
      "execution_count": 54,
      "outputs": [
        {
          "output_type": "execute_result",
          "data": {
            "text/plain": [
              "3"
            ]
          },
          "metadata": {},
          "execution_count": 54
        }
      ]
    },
    {
      "cell_type": "markdown",
      "metadata": {
        "id": "0-jdKncWTVgz"
      },
      "source": [
        "# **Regression Example**\n",
        "\n",
        "##**Boston Housing Prices**\n",
        "\n",
        "Predicting median prices of homes.\n",
        "\n",
        "total data points = 506\n",
        "\n",
        "training samples = 404\n",
        "\n",
        "test samples = 102\n",
        "\n",
        "*Each (13) feature(s) in input data has different scale*\n",
        "\n",
        "Price(in dollars)- $10,000 - $50,000"
      ]
    },
    {
      "cell_type": "code",
      "metadata": {
        "id": "FxUVKB4eRyK5"
      },
      "source": [
        "from tensorflow.keras.datasets import boston_housing\n",
        "(train_data, train_targets),(test_data, test_targets) = boston_housing.load_data()"
      ],
      "execution_count": 55,
      "outputs": []
    },
    {
      "cell_type": "code",
      "metadata": {
        "colab": {
          "base_uri": "https://localhost:8080/"
        },
        "id": "GfrWOhXxT0Pr",
        "outputId": "9cb09908-7cb3-4951-bf54-95f609008d6a"
      },
      "source": [
        "train_data.shape"
      ],
      "execution_count": 56,
      "outputs": [
        {
          "output_type": "execute_result",
          "data": {
            "text/plain": [
              "(404, 13)"
            ]
          },
          "metadata": {},
          "execution_count": 56
        }
      ]
    },
    {
      "cell_type": "code",
      "metadata": {
        "colab": {
          "base_uri": "https://localhost:8080/"
        },
        "id": "T6YAZQa2T2im",
        "outputId": "f98b1902-2732-4334-8ba6-04e75d0b25d4"
      },
      "source": [
        "test_data.shape"
      ],
      "execution_count": 57,
      "outputs": [
        {
          "output_type": "execute_result",
          "data": {
            "text/plain": [
              "(102, 13)"
            ]
          },
          "metadata": {},
          "execution_count": 57
        }
      ]
    },
    {
      "cell_type": "markdown",
      "metadata": {
        "id": "XCOFFgunUe0Z"
      },
      "source": [
        "(102, 13) -  13 is numerical features - crime rate, average number of rooms etc.."
      ]
    },
    {
      "cell_type": "code",
      "metadata": {
        "colab": {
          "base_uri": "https://localhost:8080/"
        },
        "id": "1oR5M106T4jU",
        "outputId": "b80de41f-99f8-4bed-da5c-dade58211007"
      },
      "source": [
        "# median values \n",
        "train_targets[10]"
      ],
      "execution_count": 58,
      "outputs": [
        {
          "output_type": "execute_result",
          "data": {
            "text/plain": [
              "12.1"
            ]
          },
          "metadata": {},
          "execution_count": 58
        }
      ]
    },
    {
      "cell_type": "markdown",
      "metadata": {
        "id": "AZgGM_wSZ8jH"
      },
      "source": [
        "**Problem** to feed into a NN values that take wildly different ranges.\n",
        "\n",
        "i.e if one feature has value ranging from 0 to 1 , then another feature has values ranging from 1 to 12\n",
        "\n",
        "**Solution** - Feature-wise Normalization\n",
        "\n",
        "for each feature in input data, subtract the mean of feature and divide by standard deviation.\n",
        "\n",
        "Now, the feature is centered around 0 and has a unit standrd deviation."
      ]
    },
    {
      "cell_type": "code",
      "metadata": {
        "id": "5oTCzEeQUv1P"
      },
      "source": [
        "# preparing data\n",
        "\n",
        "mean = train_data.mean(axis =0)\n",
        "train_data -= mean # subtract mean of feature\n",
        "std = train_data.std(axis = 0)\n",
        "train_data /=std # divide by std\n",
        "test_data -= mean\n",
        "test_data /= std\n"
      ],
      "execution_count": 59,
      "outputs": []
    },
    {
      "cell_type": "code",
      "metadata": {
        "id": "qzluM835b7NI"
      },
      "source": [
        "# Model (small model because we have few samples available only)\n",
        "def build_model():\n",
        "  model = keras.Sequential([\n",
        "                            layers.Dense(64, activation = \"relu\"),\n",
        "                            layers.Dense(64, activation = \"relu\"),\n",
        "                            layers.Dense(1) #no activation for scalar regression\n",
        "  ])\n",
        "  model.compile(optimizer = \"rmsprop\", loss = \"mse\", metrics =[\"mae\"])\n",
        "  return model"
      ],
      "execution_count": 60,
      "outputs": []
    },
    {
      "cell_type": "markdown",
      "metadata": {
        "id": "C97YIw8lizhx"
      },
      "source": [
        "if last layer had sigmoid activation then, it could only predict in 0 or 1. but now it is free to predict values in any range.\n",
        "\n",
        "Validation set is small because we have small dataset.As a result validation score varies a lot."
      ]
    },
    {
      "cell_type": "markdown",
      "metadata": {
        "id": "NtL8phxIEloZ"
      },
      "source": [
        "K-Fold Cross Validation\n",
        "\n",
        "Splitting available data into K partitions (K = 4,5) instantiating K identical models and training each one on K -1 partitions while evaluating on the remaining partition."
      ]
    },
    {
      "cell_type": "code",
      "metadata": {
        "id": "PD1Wqv83cS67",
        "colab": {
          "base_uri": "https://localhost:8080/"
        },
        "outputId": "9a41be01-efa9-49ef-d4ab-f5bd78d76674"
      },
      "source": [
        "k = 4\n",
        "num_val_samples = len(train_data) // k\n",
        "num_epochs = 100\n",
        "all_scores = []\n",
        "for i in range(k):\n",
        "  print(f\"Processing fold #{i}\")\n",
        "  val_data = train_data[i * num_val_samples: (i+1)*num_val_samples]\n",
        "  val_targets = train_targets[i* num_val_samples: (i + 1) * num_val_samples]\n",
        "  partial_train_data = np.concatenate(\n",
        "      [train_data[:i * num_val_samples],\n",
        "       train_data[(i + 1) * num_val_samples :]], axis = 0\n",
        "  )\n",
        "  partial_train_targets = np.concatenate([train_targets[:i * num_val_samples],\n",
        "      train_targets[(i + 1)* num_val_samples:]],axis = 0)\n",
        "\n",
        "  model = build_model()\n",
        "  model.fit(partial_train_data, partial_train_targets, epochs = num_epochs, batch_size = 16, verbose = 0)\n",
        "  val_mse, val_mae = model.evaluate(val_data, val_targets, verbose = 0)\n",
        "  all_scores.append(val_mae)  "
      ],
      "execution_count": 87,
      "outputs": [
        {
          "output_type": "stream",
          "text": [
            "Processing fold #0\n",
            "Processing fold #1\n",
            "Processing fold #2\n",
            "Processing fold #3\n"
          ],
          "name": "stdout"
        }
      ]
    },
    {
      "cell_type": "code",
      "metadata": {
        "colab": {
          "base_uri": "https://localhost:8080/"
        },
        "id": "TMWqSz3QwyzV",
        "outputId": "3e3fb42b-f3cd-4f06-e1e6-2967c3954b37"
      },
      "source": [
        "all_scores"
      ],
      "execution_count": 88,
      "outputs": [
        {
          "output_type": "execute_result",
          "data": {
            "text/plain": [
              "[2.066072463989258, 2.662353277206421, 2.404146671295166, 2.333103656768799]"
            ]
          },
          "metadata": {},
          "execution_count": 88
        }
      ]
    },
    {
      "cell_type": "code",
      "metadata": {
        "colab": {
          "base_uri": "https://localhost:8080/"
        },
        "id": "PleMfywHzCNt",
        "outputId": "c95ada81-026c-4001-d7ab-d3a8763c9d81"
      },
      "source": [
        "np.mean(all_scores)"
      ],
      "execution_count": 89,
      "outputs": [
        {
          "output_type": "execute_result",
          "data": {
            "text/plain": [
              "2.366419017314911"
            ]
          },
          "metadata": {},
          "execution_count": 89
        }
      ]
    },
    {
      "cell_type": "code",
      "metadata": {
        "colab": {
          "base_uri": "https://localhost:8080/"
        },
        "id": "wLKvDmqmzFBZ",
        "outputId": "e2cc8215-ec01-4c52-f850-d9c3916e352b"
      },
      "source": [
        "# Saving Validation logs at each fold\n",
        "\n",
        "num_epochs = 500\n",
        "all_mae_histories = []\n",
        "for i in range(k):\n",
        "  print(f\"Processing fold #{i}\")\n",
        "  val_data = train_data[i * num_val_samples: (i+1)*num_val_samples]\n",
        "  val_targets = train_targets[i * num_val_samples: (i+1)*num_val_samples]\n",
        "  partial_train_data = np.concatenate(\n",
        "      [train_data[:i * num_val_samples],\n",
        "       train_data[(i + 1) * num_val_samples :]], axis = 0\n",
        "  )\n",
        "  partial_train_targets = np.concatenate([train_targets[:i * num_val_samples],\n",
        "      train_targets[(i + 1)* num_val_samples:]],axis = 0)\n",
        "\n",
        "  model = build_model()\n",
        "  history = model.fit(partial_train_data, partial_train_targets,validation_data = (val_data, val_targets), epochs = num_epochs, batch_size = 16, verbose = 0)\n",
        "  mae_history = history.history[\"val_mae\"]\n",
        "  all_mae_histories.append(mae_history)"
      ],
      "execution_count": 91,
      "outputs": [
        {
          "output_type": "stream",
          "text": [
            "Processing fold #0\n",
            "Processing fold #1\n",
            "Processing fold #2\n",
            "Processing fold #3\n"
          ],
          "name": "stdout"
        }
      ]
    },
    {
      "cell_type": "code",
      "metadata": {
        "id": "jl_yNFN503EK"
      },
      "source": [
        "average_mae_history =[np.mean([x[i] for x in all_mae_histories]) for i in range(num_epochs)]"
      ],
      "execution_count": 92,
      "outputs": []
    },
    {
      "cell_type": "code",
      "metadata": {
        "colab": {
          "base_uri": "https://localhost:8080/",
          "height": 283
        },
        "id": "vNIPLEBX52jx",
        "outputId": "d5a9d518-4835-4d96-ca9b-fd3782bc3c8b"
      },
      "source": [
        "plt.plot(range(1, len(average_mae_history) + 1), average_mae_history)\n",
        "plt.xlabel(\"Epochs\")\n",
        "plt.ylabel(\"Validation MAE\")\n",
        "plt.show()"
      ],
      "execution_count": 93,
      "outputs": [
        {
          "output_type": "display_data",
          "data": {
            "image/png": "[encoded data removed]",
            "text/plain": [
              "<Figure size 432x288 with 1 Axes>"
            ]
          },
          "metadata": {
            "needs_background": "light"
          }
        }
      ]
    },
    {
      "cell_type": "code",
      "metadata": {
        "colab": {
          "base_uri": "https://localhost:8080/",
          "height": 279
        },
        "id": "q_MvtWcy6NX4",
        "outputId": "275b3db9-714d-4dc5-f2f6-172ea7a4ffaf"
      },
      "source": [
        "truncated_mae_history = average_mae_history[10:]\n",
        "plt.plot(range(1, len(truncated_mae_history) + 1), truncated_mae_history)\n",
        "plt.xlabel(\"Epochs\")\n",
        "plt.ylabel(\"Validation MAE\")\n",
        "plt.show()"
      ],
      "execution_count": 94,
      "outputs": [
        {
          "output_type": "display_data",
          "data": {
            "image/png": "[encoded data removed]",
            "text/plain": [
              "<Figure size 432x288 with 1 Axes>"
            ]
          },
          "metadata": {
            "needs_background": "light"
          }
        }
      ]
    },
    {
      "cell_type": "code",
      "metadata": {
        "colab": {
          "base_uri": "https://localhost:8080/"
        },
        "id": "BzRh0ytg61Rp",
        "outputId": "89ea619e-915c-46e1-c675-67f0a70fe7dc"
      },
      "source": [
        "model = build_model()\n",
        "model.fit(train_data, train_targets, epochs= 130, batch_size = 16, verbose = 0)\n",
        "test_mse_score, test_mae_score = model.evaluate(test_data, test_targets)"
      ],
      "execution_count": 95,
      "outputs": [
        {
          "output_type": "stream",
          "text": [
            "4/4 [==============================] - 0s 3ms/step - loss: 18.9755 - mae: 2.8433\n"
          ],
          "name": "stdout"
        }
      ]
    },
    {
      "cell_type": "code",
      "metadata": {
        "colab": {
          "base_uri": "https://localhost:8080/"
        },
        "id": "MUIzj_gn7i25",
        "outputId": "17b4cab3-a6f2-4a27-b17f-27a1d6100fd5"
      },
      "source": [
        "test_mae_score"
      ],
      "execution_count": 96,
      "outputs": [
        {
          "output_type": "execute_result",
          "data": {
            "text/plain": [
              "2.8433282375335693"
            ]
          },
          "metadata": {},
          "execution_count": 96
        }
      ]
    },
    {
      "cell_type": "code",
      "metadata": {
        "colab": {
          "base_uri": "https://localhost:8080/"
        },
        "id": "f_c4NPHk7lRB",
        "outputId": "f113ac93-a256-4490-f4d2-8c55d4be4e17"
      },
      "source": [
        "predictions = model.predict(test_data)\n",
        "predictions[0]"
      ],
      "execution_count": 97,
      "outputs": [
        {
          "output_type": "execute_result",
          "data": {
            "text/plain": [
              "array([9.556539], dtype=float32)"
            ]
          },
          "metadata": {},
          "execution_count": 97
        }
      ]
    }
  ]
}