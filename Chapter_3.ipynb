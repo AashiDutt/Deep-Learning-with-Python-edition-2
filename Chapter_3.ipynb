{
  "nbformat": 4,
  "nbformat_minor": 0,
  "metadata": {
    "colab": {
      "name": "Chapter 3.ipynb",
      "provenance": [],
      "authorship_tag": "ABX9TyOnJzaVLXRkGc8NY2NhUdVQ",
      "include_colab_link": true
    },
    "kernelspec": {
      "name": "python3",
      "display_name": "Python 3"
    },
    "language_info": {
      "name": "python"
    }
  },
  "cells": [
    {
      "cell_type": "markdown",
      "metadata": {
        "id": "view-in-github",
        "colab_type": "text"
      },
      "source": [
        "<a href=\"https://colab.research.google.com/github/AashiDutt/Deep-Learning-with-Python-edition-2/blob/main/Chapter_3.ipynb\" target=\"_parent\"><img src=\"https://colab.research.google.com/assets/colab-badge.svg\" alt=\"Open In Colab\"/></a>"
      ]
    },
    {
      "cell_type": "markdown",
      "metadata": {
        "id": "CDxO7G3EGeMz"
      },
      "source": [
        "BOOK - DEEP LEARNING WITH PYTHON (EDITION 2)\n",
        "\n",
        "Code- Chapter 3 (Intro to Keras and TensorFlow)"
      ]
    },
    {
      "cell_type": "markdown",
      "metadata": {
        "id": "OdH5HyaMHsPg"
      },
      "source": [
        "Tensors need to be created with some iunitial value and following are some common ways of creating tensors."
      ]
    },
    {
      "cell_type": "code",
      "metadata": {
        "colab": {
          "base_uri": "https://localhost:8080/"
        },
        "id": "IT4QZnvyGZ9z",
        "outputId": "1d130b13-2c44-400e-a2cd-95493752c622"
      },
      "source": [
        "# All zeros and Ones tensors\n",
        "import tensorflow as tf\n",
        "x = tf.ones(shape = (2,1))\n",
        "print(x)"
      ],
      "execution_count": 2,
      "outputs": [
        {
          "output_type": "stream",
          "text": [
            "tf.Tensor(\n",
            "[[1.]\n",
            " [1.]], shape=(2, 1), dtype=float32)\n"
          ],
          "name": "stdout"
        }
      ]
    },
    {
      "cell_type": "code",
      "metadata": {
        "colab": {
          "base_uri": "https://localhost:8080/"
        },
        "id": "xsEGfvjAHN59",
        "outputId": "3ca113b1-aaa7-4835-860f-88e247b028a3"
      },
      "source": [
        "y = tf.zeros(shape = (2,1))\n",
        "print(y)"
      ],
      "execution_count": 3,
      "outputs": [
        {
          "output_type": "stream",
          "text": [
            "tf.Tensor(\n",
            "[[0.]\n",
            " [0.]], shape=(2, 1), dtype=float32)\n"
          ],
          "name": "stdout"
        }
      ]
    },
    {
      "cell_type": "markdown",
      "metadata": {
        "id": "-aBlDWlfHaGr"
      },
      "source": [
        "Equivalent to \n",
        "\n",
        "np.ones(shape = (2,1))  and   \n",
        "np.zeros(shape = (2,1))"
      ]
    },
    {
      "cell_type": "code",
      "metadata": {
        "colab": {
          "base_uri": "https://localhost:8080/"
        },
        "id": "7F9oR0UqHXh6",
        "outputId": "c501c858-15a7-40ff-9969-f7d676a4336a"
      },
      "source": [
        "# Randon Tensors\n",
        "\n",
        "x = tf.random.normal(shape =(3,1), mean = 0., stddev = 1.)\n",
        "print(x)"
      ],
      "execution_count": 6,
      "outputs": [
        {
          "output_type": "stream",
          "text": [
            "tf.Tensor(\n",
            "[[-1.1425971]\n",
            " [ 1.0585824]\n",
            " [ 1.7593197]], shape=(3, 1), dtype=float32)\n"
          ],
          "name": "stdout"
        }
      ]
    },
    {
      "cell_type": "code",
      "metadata": {
        "colab": {
          "base_uri": "https://localhost:8080/"
        },
        "id": "5v-ygLHRIBOD",
        "outputId": "022a9968-8875-48ab-f906-aa22386bf35a"
      },
      "source": [
        "y = tf.random.uniform(shape= (3,1), minval = 0., maxval = 1.)\n",
        "print(y)"
      ],
      "execution_count": 8,
      "outputs": [
        {
          "output_type": "stream",
          "text": [
            "tf.Tensor(\n",
            "[[0.9831734 ]\n",
            " [0.5621805 ]\n",
            " [0.67008376]], shape=(3, 1), dtype=float32)\n"
          ],
          "name": "stdout"
        }
      ]
    },
    {
      "cell_type": "markdown",
      "metadata": {
        "id": "kxBqGLwmIVDs"
      },
      "source": [
        "Similar as:\n",
        "\n",
        "np.random.normal(shape = (3,1), low = 0., high = 1.)"
      ]
    },
    {
      "cell_type": "code",
      "metadata": {
        "id": "AL0lWaEaIMJp"
      },
      "source": [
        "# Assignment - NumPy arrays are assignable while Tensors are not\n",
        "\n",
        "import numpy as np\n",
        "x = np.ones(shape= (2,1))\n",
        "x[0,0] = 0."
      ],
      "execution_count": 9,
      "outputs": []
    },
    {
      "cell_type": "code",
      "metadata": {
        "id": "hn8kxcFNI0yz"
      },
      "source": [
        "x = tf.ones(shape = (2,1))\n",
        "# x[0,0] = 0.  - gives an error\n"
      ],
      "execution_count": 11,
      "outputs": []
    },
    {
      "cell_type": "code",
      "metadata": {
        "colab": {
          "base_uri": "https://localhost:8080/"
        },
        "id": "P41Q9BFOJCD5",
        "outputId": "c0204379-0167-48c6-83ec-14e65fa491ff"
      },
      "source": [
        "# Creating a variable\n",
        "\n",
        "V = tf.Variable(initial_value = tf.random.normal(shape = (3,1)))\n",
        "print(V)"
      ],
      "execution_count": 12,
      "outputs": [
        {
          "output_type": "stream",
          "text": [
            "<tf.Variable 'Variable:0' shape=(3, 1) dtype=float32, numpy=\n",
            "array([[ 0.4092076 ],\n",
            "       [-0.09742592],\n",
            "       [ 0.9922188 ]], dtype=float32)>\n"
          ],
          "name": "stdout"
        }
      ]
    },
    {
      "cell_type": "code",
      "metadata": {
        "colab": {
          "base_uri": "https://localhost:8080/"
        },
        "id": "pRHVhjfOJZGh",
        "outputId": "aa647352-a7f7-422c-b4c2-3b65a776813e"
      },
      "source": [
        "# Assigning value to variable\n",
        "\n",
        "V.assign(tf.ones((3,1)))"
      ],
      "execution_count": 13,
      "outputs": [
        {
          "output_type": "execute_result",
          "data": {
            "text/plain": [
              "<tf.Variable 'UnreadVariable' shape=(3, 1) dtype=float32, numpy=\n",
              "array([[1.],\n",
              "       [1.],\n",
              "       [1.]], dtype=float32)>"
            ]
          },
          "metadata": {
            "tags": []
          },
          "execution_count": 13
        }
      ]
    },
    {
      "cell_type": "code",
      "metadata": {
        "colab": {
          "base_uri": "https://localhost:8080/"
        },
        "id": "mMPVGaQtJkjR",
        "outputId": "f53dd981-cbe1-4231-e7ab-c3cb146a05ac"
      },
      "source": [
        "# Assigning value to a subset of a variable\n",
        "\n",
        "V[0,0].assign(3.)"
      ],
      "execution_count": 14,
      "outputs": [
        {
          "output_type": "execute_result",
          "data": {
            "text/plain": [
              "<tf.Variable 'UnreadVariable' shape=(3, 1) dtype=float32, numpy=\n",
              "array([[3.],\n",
              "       [1.],\n",
              "       [1.]], dtype=float32)>"
            ]
          },
          "metadata": {
            "tags": []
          },
          "execution_count": 14
        }
      ]
    },
    {
      "cell_type": "code",
      "metadata": {
        "colab": {
          "base_uri": "https://localhost:8080/"
        },
        "id": "NiNGZSK0J8_a",
        "outputId": "fae3e978-3bd8-4d8a-f853-60be368e3e4b"
      },
      "source": [
        "# assign_add\n",
        "\n",
        "V.assign_add(tf.ones((3,1)))"
      ],
      "execution_count": 17,
      "outputs": [
        {
          "output_type": "execute_result",
          "data": {
            "text/plain": [
              "<tf.Variable 'UnreadVariable' shape=(3, 1) dtype=float32, numpy=\n",
              "array([[5.],\n",
              "       [3.],\n",
              "       [3.]], dtype=float32)>"
            ]
          },
          "metadata": {
            "tags": []
          },
          "execution_count": 17
        }
      ]
    },
    {
      "cell_type": "code",
      "metadata": {
        "id": "VK4eApWwKKBB"
      },
      "source": [
        "# Basic math operations\n",
        "\n",
        "a = tf.ones(shape = (2,2))\n",
        "b = tf.square(a)\n",
        "c = tf.sqrt(a)\n",
        "d = b + c # add two tensors element wise\n",
        "e = tf.matmul(a,b) # product of two tensors\n",
        "e *= d # multiply two tensors element wise"
      ],
      "execution_count": 19,
      "outputs": []
    },
    {
      "cell_type": "code",
      "metadata": {
        "colab": {
          "base_uri": "https://localhost:8080/"
        },
        "id": "UyUBA5JuK0fq",
        "outputId": "034dd1a0-aaa4-4f48-d609-c4e0810d1379"
      },
      "source": [
        "print(e)"
      ],
      "execution_count": 20,
      "outputs": [
        {
          "output_type": "stream",
          "text": [
            "tf.Tensor(\n",
            "[[4. 4.]\n",
            " [4. 4.]], shape=(2, 2), dtype=float32)\n"
          ],
          "name": "stdout"
        }
      ]
    },
    {
      "cell_type": "markdown",
      "metadata": {
        "id": "DRUM6GDVLO4v"
      },
      "source": [
        "**Retrieving Gradient from any differential expression with respect to any of its input using GradientTape.**\n",
        "\n",
        "**Cannot be done using NumPy**"
      ]
    },
    {
      "cell_type": "code",
      "metadata": {
        "id": "JigaEuSTLGyB"
      },
      "source": [
        "input_var = tf.Variable(initial_value = 3.)\n",
        "with tf.GradientTape() as tape:\n",
        "  result = tf.square(input_var)\n",
        "gradient = tape.gradient(result, input_var)"
      ],
      "execution_count": 21,
      "outputs": []
    },
    {
      "cell_type": "markdown",
      "metadata": {
        "id": "MRzA3KOPMBB7"
      },
      "source": [
        "**Most Common use of GradientTape**\n",
        "\n",
        "Retrieve loss of a model with respect to its weights.\n",
        "\n",
        "gradient = tape.gradient(loss, weights)"
      ]
    },
    {
      "cell_type": "code",
      "metadata": {
        "id": "sa-cT6z3L85R"
      },
      "source": [
        "# Input to GradientTape can be any arbitrary Tensor along with Tf variable\n",
        "# use tape.watch() to track it manually to avaoid wasting of resources\n",
        "input_const = tf.constant(3.)\n",
        "with tf.GradientTape() as tape:\n",
        "  tape.watch(input_const)\n",
        "  result = tf.square(input_const)\n",
        "gradient = tape.gradient(result, input_const)\n"
      ],
      "execution_count": 22,
      "outputs": []
    },
    {
      "cell_type": "code",
      "metadata": {
        "colab": {
          "base_uri": "https://localhost:8080/"
        },
        "id": "o0Yc-2S9PsL6",
        "outputId": "c4fc924b-d6db-4b7d-bbc8-6d2c490be58c"
      },
      "source": [
        "# Finding Second Order Gradient\n",
        "\n",
        "time = tf.Variable(0.)\n",
        "with tf.GradientTape() as outer_tape:\n",
        "  with tf.GradientTape() as inner_tape:\n",
        "    position = 4.9 * time ** 2\n",
        "  speed = inner_tape.gradient(position, time)   # first order gradient\n",
        "acceleration = outer_tape.gradient(speed, time)  # second order gradient\n",
        "print('Acceleration = ', acceleration)"
      ],
      "execution_count": 25,
      "outputs": [
        {
          "output_type": "stream",
          "text": [
            "Acceleration =  tf.Tensor(9.8, shape=(), dtype=float32)\n"
          ],
          "name": "stdout"
        }
      ]
    },
    {
      "cell_type": "markdown",
      "metadata": {
        "id": "gAa3T6ttRoV_"
      },
      "source": [
        "# Implementing Linear Classifier from scratch in TF"
      ]
    },
    {
      "cell_type": "code",
      "metadata": {
        "id": "KJ4GLaA_RB76"
      },
      "source": [
        "# Linearly seprable synthetic data with two classes of points in 2D plane.\n",
        "\n",
        "num_samples_per_class = 1000\n",
        "\n",
        "negative_samples = np.random.multivariate_normal(mean = [0,3], cov = [[1,0.5],[0.5,1]], size = num_samples_per_class)\n",
        "\n",
        "positive_samples = np.random.multivariate_normal(mean=[3,0], cov = [[1,0.5], [0.5, 1]], size = num_samples_per_class)"
      ],
      "execution_count": 26,
      "outputs": []
    },
    {
      "cell_type": "markdown",
      "metadata": {
        "id": "AIE37mJgS1VY"
      },
      "source": [
        "1000 random 2D points generated with specified mean and covariance matrix.\n",
        "\n",
        "**covariance matrix** - describes shape of point cloud.\n",
        "\n",
        "**mean** - describes its position in the plane\n",
        "\n",
        "**cov = [[1,0.5],[0.5,1]]** - describes oval-like point cloud oriented from bottom left to top right.\n",
        "\n",
        "**negative_samples and positive samples are arrays of shape(1000, 2)**\n",
        "\n",
        "\n",
        "Stacking them to single array with shape - **(2000, 2)**\n"
      ]
    },
    {
      "cell_type": "code",
      "metadata": {
        "id": "Rhx_laMESoY0"
      },
      "source": [
        "# stacking 2 arrays\n",
        "\n",
        "inputs = np.vstack((negative_samples, positive_samples)).astype(np.float32)"
      ],
      "execution_count": 27,
      "outputs": []
    },
    {
      "cell_type": "code",
      "metadata": {
        "id": "OD_fnS70UIDB"
      },
      "source": [
        "# Generating target labels\n",
        "# create a target array of zeros and ones of shape (2000, 1), where targets[i, 0] is 0 if inputs[i] belongs to class 0 and vice a versa\n",
        "\n",
        "targets = np.vstack((np.zeros((num_samples_per_class, 1), dtype=\"float32\"),\n",
        "                     np.ones((num_samples_per_class, 1), dtype=\"float32\")))"
      ],
      "execution_count": 28,
      "outputs": []
    },
    {
      "cell_type": "code",
      "metadata": {
        "colab": {
          "base_uri": "https://localhost:8080/",
          "height": 265
        },
        "id": "7IAvsYQkVCtc",
        "outputId": "617bf734-bbbd-4399-d20a-1096ba677008"
      },
      "source": [
        "# Plotting two point classes\n",
        "\n",
        "import matplotlib.pyplot as plt\n",
        "plt.scatter(inputs[:, 0], inputs[:, 1], c = targets[:, 0])\n",
        "plt.show()"
      ],
      "execution_count": 29,
      "outputs": [
        {
          "output_type": "display_data",
          "data": {
            "image/png": "[encoded data removed]",
            "text/plain": [
              "<Figure size 432x288 with 1 Axes>"
            ]
          },
          "metadata": {
            "tags": [],
            "needs_background": "light"
          }
        }
      ]
    },
    {
      "cell_type": "markdown",
      "metadata": {
        "id": "OMwTjakQVi1G"
      },
      "source": [
        "# Building a linear classifier to separate two blobs.\n",
        "\n",
        "**PREDICTION = Weights * input + bias**\n",
        "\n",
        "Trained to minimize the square of the difference between predictions and the targets."
      ]
    },
    {
      "cell_type": "code",
      "metadata": {
        "id": "ATET5sH2VdwC"
      },
      "source": [
        "# Variables\n",
        "\n",
        "input_dim = 2\n",
        "output_dim = 1\n",
        "w = tf.Variable(initial_value = tf.random.uniform(shape = (input_dim, output_dim)))\n",
        "b = tf.Variable(initial_value = tf.zeros(shape = (output_dim,)))"
      ],
      "execution_count": 30,
      "outputs": []
    },
    {
      "cell_type": "code",
      "metadata": {
        "id": "xJc5dFWlWmha"
      },
      "source": [
        "# Forward pass\n",
        "\n",
        "def model(inputs):\n",
        "  return tf.matmul(inputs, w) + b"
      ],
      "execution_count": 31,
      "outputs": []
    },
    {
      "cell_type": "code",
      "metadata": {
        "id": "HAoXZRVAW1AY"
      },
      "source": [
        "# mean squared loss\n",
        "\n",
        "def square_loss(targets, predictions):\n",
        "  per_sample_losses = tf.square(targets - predictions)\n",
        "  return tf.reduce_mean(per_sample_losses) # reduce_mean avergaes all losses to a single number"
      ],
      "execution_count": 32,
      "outputs": []
    },
    {
      "cell_type": "markdown",
      "metadata": {
        "id": "OdxNaHiaXm5c"
      },
      "source": [
        "Training step - recieves some training data and updates the weights and bias, so as to minimize the loss on the data"
      ]
    },
    {
      "cell_type": "code",
      "metadata": {
        "id": "az-mshseXIRR"
      },
      "source": [
        "learning_rate = 0.1\n",
        "\n",
        "def training_step(inputs, targets):\n",
        "  with tf.GradientTape() as tape:\n",
        "    predictions = model(inputs)\n",
        "    loss = square_loss(predictions, targets)\n",
        "  grad_loss_wrt_w, grad_loss_wrt_b = tape.gradient(loss, [w, b])\n",
        "  w.assign_sub(grad_loss_wrt_w * learning_rate)\n",
        "  b.assign_sub(grad_loss_wrt_b * learning_rate)\n",
        "\n",
        "  return loss\n"
      ],
      "execution_count": 33,
      "outputs": []
    },
    {
      "cell_type": "code",
      "metadata": {
        "colab": {
          "base_uri": "https://localhost:8080/"
        },
        "id": "hHRpPN0qYoAs",
        "outputId": "9e5f765e-b76a-4d88-9ebc-0994f295cf8a"
      },
      "source": [
        "# Batch training\n",
        "\n",
        "for step in range(40):\n",
        "  loss = training_step(inputs, targets)\n",
        "  print(f\"Loss at step {step}: {loss:.4f}\")"
      ],
      "execution_count": 35,
      "outputs": [
        {
          "output_type": "stream",
          "text": [
            "Loss at step 0: 4.3315\n",
            "Loss at step 1: 0.4163\n",
            "Loss at step 2: 0.1639\n",
            "Loss at step 3: 0.1371\n",
            "Loss at step 4: 0.1270\n",
            "Loss at step 5: 0.1187\n",
            "Loss at step 6: 0.1112\n",
            "Loss at step 7: 0.1043\n",
            "Loss at step 8: 0.0980\n",
            "Loss at step 9: 0.0922\n",
            "Loss at step 10: 0.0869\n",
            "Loss at step 11: 0.0820\n",
            "Loss at step 12: 0.0776\n",
            "Loss at step 13: 0.0735\n",
            "Loss at step 14: 0.0697\n",
            "Loss at step 15: 0.0663\n",
            "Loss at step 16: 0.0632\n",
            "Loss at step 17: 0.0603\n",
            "Loss at step 18: 0.0577\n",
            "Loss at step 19: 0.0552\n",
            "Loss at step 20: 0.0530\n",
            "Loss at step 21: 0.0510\n",
            "Loss at step 22: 0.0491\n",
            "Loss at step 23: 0.0474\n",
            "Loss at step 24: 0.0459\n",
            "Loss at step 25: 0.0444\n",
            "Loss at step 26: 0.0431\n",
            "Loss at step 27: 0.0419\n",
            "Loss at step 28: 0.0408\n",
            "Loss at step 29: 0.0398\n",
            "Loss at step 30: 0.0389\n",
            "Loss at step 31: 0.0380\n",
            "Loss at step 32: 0.0373\n",
            "Loss at step 33: 0.0365\n",
            "Loss at step 34: 0.0359\n",
            "Loss at step 35: 0.0353\n",
            "Loss at step 36: 0.0347\n",
            "Loss at step 37: 0.0342\n",
            "Loss at step 38: 0.0338\n",
            "Loss at step 39: 0.0334\n"
          ],
          "name": "stdout"
        }
      ]
    },
    {
      "cell_type": "markdown",
      "metadata": {
        "id": "9DFd8OcmZYWw"
      },
      "source": [
        "Because our targets are zeros and ones, a given input point will be classified as 0 if prediction value is less than 0.5 and 1 if prediction is greater than 0.5."
      ]
    },
    {
      "cell_type": "code",
      "metadata": {
        "colab": {
          "base_uri": "https://localhost:8080/",
          "height": 265
        },
        "id": "zm4L6NzKY_bI",
        "outputId": "edd237cf-89a7-409b-ca24-56d3a69d2a71"
      },
      "source": [
        "predictions = model(inputs)\n",
        "plt.scatter(inputs[:,0], inputs[:,1], c= predictions[:, 0] > 0.5) # c colors points greater than 0.5 to distingiush\n",
        "plt.show()"
      ],
      "execution_count": 36,
      "outputs": [
        {
          "output_type": "display_data",
          "data": {
            "image/png": "[encoded data removed]",
            "text/plain": [
              "<Figure size 432x288 with 1 Axes>"
            ]
          },
          "metadata": {
            "tags": [],
            "needs_background": "light"
          }
        }
      ]
    },
    {
      "cell_type": "markdown",
      "metadata": {
        "id": "nCdlGYNgZ6VN"
      },
      "source": [
        "Equation of line becomes \n",
        "\n",
        " y = -w1 / w2 * x + (0.5 - b)  /w2"
      ]
    },
    {
      "cell_type": "code",
      "metadata": {
        "colab": {
          "base_uri": "https://localhost:8080/",
          "height": 282
        },
        "id": "usHBgWoPY5OB",
        "outputId": "1c7b4680-f64a-4a92-9e3d-da398fa345da"
      },
      "source": [
        "# plotting the line\n",
        "\n",
        "x = np.linspace(-1, 4, 100) # generate 100 evenly spaces numbers b/w -1 and 4 used to plot the line\n",
        "y = -w[0] /w[1]  * x + (0.5 - b) /w[1]\n",
        "plt.plot(x, y, \"-r\") # r - red line\n",
        "plt.scatter(inputs[:, 0], inputs[: , 1], c = predictions[:, 0 ] > 0.5) # c colors points greater than 0.5 to distingiush"
      ],
      "execution_count": 37,
      "outputs": [
        {
          "output_type": "execute_result",
          "data": {
            "text/plain": [
              "<matplotlib.collections.PathCollection at 0x7fc59ea2c3d0>"
            ]
          },
          "metadata": {
            "tags": []
          },
          "execution_count": 37
        },
        {
          "output_type": "display_data",
          "data": {
            "image/png": "[encoded data removed]",
            "text/plain": [
              "<Figure size 432x288 with 1 Axes>"
            ]
          },
          "metadata": {
            "tags": [],
            "needs_background": "light"
          }
        }
      ]
    },
    {
      "cell_type": "markdown",
      "metadata": {
        "id": "QB-62FlYd7Es"
      },
      "source": [
        "#Working with Keras\n",
        "\n",
        "##Base Layer in Keras:\n",
        "\n",
        "**A layer is an object that encapsulates some state(weights) and some computation(forward pass).**\n",
        "\n",
        "- Weights are typically defined in build() [ could also be created in constructor init()].\n",
        "\n",
        "- Computation is defined in call() method."
      ]
    },
    {
      "cell_type": "code",
      "metadata": {
        "id": "pxSkMqpAajSI"
      },
      "source": [
        "from tensorflow import keras\n",
        "\n",
        "class SimpleDense(keras.layers.Layer): # all layers inherit from the base layer\n",
        "  def __init__(self, units, activation = None):\n",
        "    super().__init__()\n",
        "    self.units = units\n",
        "    self.activation = activation\n",
        "\n",
        "  def build(self, input_shape):\n",
        "    input_dim = input_shape[-1]\n",
        "    self.w = self.add_weight(shape = (input_dim, self.units),\n",
        "                             initializer=\"random_normal\")\n",
        "    \n",
        "    self.b = self.add_weight(shape= (self.units,),\n",
        "                             initializer = \"zeros\") # shortcut for creating weights\n",
        "  \n",
        "  def call(self, inputs): # used for forward pass\n",
        "    y = tf.matmul(inputs, self.w) +self.b\n",
        "    if self.activation is not None:\n",
        "      y = self.activation(y)\n",
        "    return y\n"
      ],
      "execution_count": 41,
      "outputs": []
    },
    {
      "cell_type": "code",
      "metadata": {
        "colab": {
          "base_uri": "https://localhost:8080/"
        },
        "id": "BxY70qQBgaC6",
        "outputId": "f673fe16-938d-46c3-f08f-4773875abf3c"
      },
      "source": [
        "# Instantiate layer and create some test inputs, then call the layer on the inputs.\n",
        "my_dense = SimpleDense(units = 32, activation = tf.nn.relu)\n",
        "input_tensor = tf.ones(shape = (2,784))\n",
        "output_tensor = my_dense(input_tensor)\n",
        "print(output_tensor.shape)"
      ],
      "execution_count": 42,
      "outputs": [
        {
          "output_type": "stream",
          "text": [
            "(2, 32)\n"
          ],
          "name": "stdout"
        }
      ]
    },
    {
      "cell_type": "code",
      "metadata": {
        "id": "iuhxpuaUhByY"
      },
      "source": [
        "# Every layer will accept only input of specific shape and output tensors of cetain shape.\n",
        "# A dense layer with 32 output units\n",
        "\n",
        "from tensorflow.keras import layers\n",
        "layer = layers.Dense(32, activation = \"relu\")"
      ],
      "execution_count": 43,
      "outputs": []
    },
    {
      "cell_type": "code",
      "metadata": {
        "id": "t6zYLX96iPF2"
      },
      "source": [
        "#Models are dynamically built to match shape of their input to the shape of incoming input.\n",
        "\n",
        "from tensorflow.keras import models\n",
        "from tensorflow.keras import layers\n",
        "model = models.Sequential([\n",
        "                          layers.Dense(32, activation=\"relu\"),\n",
        "                          layers.Dense(32)\n",
        "])"
      ],
      "execution_count": 45,
      "outputs": []
    },
    {
      "cell_type": "code",
      "metadata": {
        "id": "uef_fzgJiyxO"
      },
      "source": [
        "# With automatic shape inference with Keras, the functions will become\n",
        "\n",
        "def __call__(self, inputs):\n",
        "  if not self.built:\n",
        "    self.build(inputs.shape)\n",
        "    self.built = True\n",
        "  return self.call(inputs)"
      ],
      "execution_count": 46,
      "outputs": []
    },
    {
      "cell_type": "markdown",
      "metadata": {
        "id": "wCAMx4r1lp2h"
      },
      "source": [
        "Once model architecture is defined - we look into loss function, optimizer and metrics"
      ]
    },
    {
      "cell_type": "code",
      "metadata": {
        "id": "rEU3LXmckHlz"
      },
      "source": [
        "model = keras.Sequential([keras.layers.Dense(1)])\n",
        "model.compile(optimizer = \"rmsprop\", loss = \"mean_squared_error\", metrics = [\"accuracy\"])"
      ],
      "execution_count": 47,
      "outputs": []
    },
    {
      "cell_type": "code",
      "metadata": {
        "colab": {
          "base_uri": "https://localhost:8080/"
        },
        "id": "-Au-h3D_lnFl",
        "outputId": "4385f206-54a0-4a80-a118-a256cb706e98"
      },
      "source": [
        "history = model.fit(inputs, targets, epochs = 5, batch_size = 128)"
      ],
      "execution_count": 48,
      "outputs": [
        {
          "output_type": "stream",
          "text": [
            "Epoch 1/5\n",
            "2/2 [==============================] - 0s 7ms/step - loss: 6.3313 - accuracy: 0.9550\n",
            "Epoch 2/5\n",
            "2/2 [==============================] - 0s 5ms/step - loss: 6.2556 - accuracy: 0.9550\n",
            "Epoch 3/5\n",
            "2/2 [==============================] - 0s 9ms/step - loss: 6.2011 - accuracy: 0.9550\n",
            "Epoch 4/5\n",
            "2/2 [==============================] - 0s 8ms/step - loss: 6.1549 - accuracy: 0.9550\n",
            "Epoch 5/5\n",
            "2/2 [==============================] - 0s 7ms/step - loss: 6.1146 - accuracy: 0.9550\n"
          ],
          "name": "stdout"
        }
      ]
    },
    {
      "cell_type": "code",
      "metadata": {
        "colab": {
          "base_uri": "https://localhost:8080/"
        },
        "id": "RTM8HBAxmbR7",
        "outputId": "d038476b-c8cf-4739-a710-c4924077b581"
      },
      "source": [
        "history.history"
      ],
      "execution_count": 49,
      "outputs": [
        {
          "output_type": "execute_result",
          "data": {
            "text/plain": [
              "{'accuracy': [0.9549999833106995,\n",
              "  0.9549999833106995,\n",
              "  0.9549999833106995,\n",
              "  0.9549999833106995,\n",
              "  0.9549999833106995],\n",
              " 'loss': [6.331326484680176,\n",
              "  6.255557060241699,\n",
              "  6.201109409332275,\n",
              "  6.154901504516602,\n",
              "  6.114569664001465]}"
            ]
          },
          "metadata": {
            "tags": []
          },
          "execution_count": 49
        }
      ]
    },
    {
      "cell_type": "code",
      "metadata": {
        "colab": {
          "base_uri": "https://localhost:8080/"
        },
        "id": "lIVBGuq8m_qy",
        "outputId": "974d531e-6b88-4503-cd28-02c6ac3dc2bd"
      },
      "source": [
        "# separating validation data\n",
        "indices_permutation = np.random.permutation(len(inputs))\n",
        "shuffled_inputs = inputs[indices_permutation]\n",
        "shuffled_targets = targets[indices_permutation]\n",
        "\n",
        "num_validation_samples = int(0.3 * len(inputs)) # reserve 30% inputs and targets for validation\n",
        "val_inputs = shuffled_inputs[:num_validation_samples]\n",
        "val_targets = shuffled_targets[:num_validation_samples]\n",
        "training_inputs = shuffled_inputs[num_validation_samples:]\n",
        "training_targets = shuffled_targets[num_validation_samples:]\n",
        "model.fit(\n",
        "    training_inputs,\n",
        "    training_targets,\n",
        "    epochs =5,\n",
        "    batch_size = 16,\n",
        "    validation_data = (val_inputs, val_targets)\n",
        ")\n"
      ],
      "execution_count": 50,
      "outputs": [
        {
          "output_type": "stream",
          "text": [
            "Epoch 1/5\n",
            "9/9 [==============================] - 0s 24ms/step - loss: 6.3548 - accuracy: 0.9571 - val_loss: 5.1548 - val_accuracy: 0.9500\n",
            "Epoch 2/5\n",
            "9/9 [==============================] - 0s 5ms/step - loss: 6.2137 - accuracy: 0.9571 - val_loss: 5.0462 - val_accuracy: 0.9500\n",
            "Epoch 3/5\n",
            "9/9 [==============================] - 0s 7ms/step - loss: 6.0865 - accuracy: 0.9571 - val_loss: 4.9344 - val_accuracy: 0.9500\n",
            "Epoch 4/5\n",
            "9/9 [==============================] - 0s 5ms/step - loss: 5.9607 - accuracy: 0.9571 - val_loss: 4.8301 - val_accuracy: 0.9500\n",
            "Epoch 5/5\n",
            "9/9 [==============================] - 0s 4ms/step - loss: 5.8366 - accuracy: 0.9571 - val_loss: 4.7218 - val_accuracy: 0.9500\n"
          ],
          "name": "stdout"
        },
        {
          "output_type": "execute_result",
          "data": {
            "text/plain": [
              "<keras.callbacks.History at 0x7fc59e37e1d0>"
            ]
          },
          "metadata": {
            "tags": []
          },
          "execution_count": 50
        }
      ]
    },
    {
      "cell_type": "code",
      "metadata": {
        "id": "EWHWWzO1p9ZV"
      },
      "source": [
        ""
      ],
      "execution_count": null,
      "outputs": []
    }
  ]
}